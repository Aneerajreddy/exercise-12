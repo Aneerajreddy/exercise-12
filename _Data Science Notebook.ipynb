{
 "cells": [
  {
   "cell_type": "markdown",
   "id": "9b61daca",
   "metadata": {},
   "source": [
    "## Introduction\n",
    "## Welcome to this Data Science notebook! In this notebook, we will explore various data science concepts and exercises.\n"
   ]
  },
  {
   "cell_type": "markdown",
   "id": "be31a6d0",
   "metadata": {},
   "source": [
    "## Data Science Languages\n",
    "- Python\n",
    "- R\n",
    "- Julia\n",
    "- SQL\n",
    "- Scala\n"
   ]
  },
  {
   "cell_type": "markdown",
   "id": "dfb24700",
   "metadata": {},
   "source": [
    "## Data Science Libraries\n",
    "- NumPy\n",
    "- pandas\n",
    "- Matplotlib\n",
    "- Seaborn\n",
    "- scikit-learn\n",
    "- TensorFlow\n",
    "- PyTorch\n"
   ]
  },
  {
   "cell_type": "markdown",
   "id": "cb171acd",
   "metadata": {},
   "source": [
    "## Data Science Tools\n",
    "\n",
    "| Tool         | Description                        |\n",
    "|--------------|------------------------------------|\n",
    "| Jupyter      | Interactive computing environment  |\n",
    "| VS Code      | Integrated Development Environment |\n",
    "| Tableau      | Data visualization tool            |\n",
    "| SQL Server   | Relational database management     |\n",
    "| Git          | Version control system             |\n",
    "| Excel        | Spreadsheet software               |\n",
    "| Power BI     | Business analytics tool            |\n"
   ]
  },
  {
   "cell_type": "markdown",
   "id": "bb07c4cf",
   "metadata": {},
   "source": [
    "## Arithmetic Expressions\n",
    "In this section, we will explore some examples of arithmetic expressions and operations.\n"
   ]
  },
  {
   "cell_type": "code",
   "execution_count": 3,
   "id": "e7babc70",
   "metadata": {},
   "outputs": [
    {
     "name": "stdout",
     "output_type": "stream",
     "text": [
      "17\n"
     ]
    }
   ],
   "source": [
    "# Multiply and add numbers\n",
    "result = 5 * 3 + 2\n",
    "print(result)\n"
   ]
  },
  {
   "cell_type": "code",
   "execution_count": 4,
   "id": "6375b5c1",
   "metadata": {},
   "outputs": [
    {
     "name": "stdout",
     "output_type": "stream",
     "text": [
      "120 minutes is equal to 2.0 hours.\n"
     ]
    }
   ],
   "source": [
    "# Convert minutes to hours\n",
    "minutes = 120\n",
    "hours = minutes / 60\n",
    "print(f\"{minutes} minutes is equal to {hours} hours.\")\n"
   ]
  },
  {
   "cell_type": "markdown",
   "id": "6ceed670",
   "metadata": {},
   "source": [
    "## Objectives\n",
    "In this notebook, we aim to:\n",
    "1. Explore data science languages and libraries.\n",
    "2. Work with arithmetic expressions.\n",
    "3. Convert units of time.\n",
    "4. Share the notebook via GitHub.\n"
   ]
  },
  {
   "cell_type": "markdown",
   "id": "2a0586e8",
   "metadata": {},
   "source": [
    "## Author\n",
    "- Neeraj allam"
   ]
  },
  {
   "cell_type": "code",
   "execution_count": null,
   "id": "9f79a97f",
   "metadata": {},
   "outputs": [],
   "source": []
  }
 ],
 "metadata": {
  "kernelspec": {
   "display_name": "Python 3 (ipykernel)",
   "language": "python",
   "name": "python3"
  },
  "language_info": {
   "codemirror_mode": {
    "name": "ipython",
    "version": 3
   },
   "file_extension": ".py",
   "mimetype": "text/x-python",
   "name": "python",
   "nbconvert_exporter": "python",
   "pygments_lexer": "ipython3",
   "version": "3.11.4"
  }
 },
 "nbformat": 4,
 "nbformat_minor": 5
}
